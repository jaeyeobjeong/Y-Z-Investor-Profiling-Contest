{
 "cells": [
  {
   "cell_type": "code",
   "execution_count": 65,
   "id": "8c6b0d56",
   "metadata": {},
   "outputs": [],
   "source": [
    "path = '/Users/jaeyeobjeong/Desktop/포트폴리오/프로젝트/소비예측 경진대회/data'"
   ]
  },
  {
   "cell_type": "code",
   "execution_count": 66,
   "id": "84bcf50c",
   "metadata": {},
   "outputs": [],
   "source": [
    "import pandas as pd\n",
    "import numpy as np\n",
    "\n",
    "import matplotlib.pyplot as plt\n",
    "import seaborn as sns\n",
    "\n",
    "from sklearn.model_selection import train_test_split, cross_val_score\n",
    "#from sklearn.preprocessing import MinMaxScaler"
   ]
  },
  {
   "cell_type": "code",
   "execution_count": 67,
   "id": "2095d3c8",
   "metadata": {},
   "outputs": [],
   "source": [
    "from xgboost import XGBRegressor\n",
    "from lightgbm import LGBMRegressor\n",
    "from catboost import CatBoostRegressor\n",
    "from sklearn.ensemble import RandomForestRegressor"
   ]
  },
  {
   "cell_type": "code",
   "execution_count": 68,
   "id": "b554bd0b",
   "metadata": {},
   "outputs": [],
   "source": [
    "train = pd.read_csv(f'{path}/train_0503.csv')\n",
    "test = pd.read_csv(f'{path}/test_0503.csv')"
   ]
  },
  {
   "cell_type": "code",
   "execution_count": 69,
   "id": "7740d4c5",
   "metadata": {},
   "outputs": [],
   "source": [
    "from category_encoders import TargetEncoder\n",
    "from sklearn.preprocessing import OneHotEncoder \n",
    "from sklearn.preprocessing import LabelEncoder\n",
    "\n",
    "ohe_features = ['Education', 'Marital_Status']\n",
    "\n",
    "train_ohe, test_ohe = pd.DataFrame(), pd.DataFrame()\n",
    "for feat in ohe_features:\n",
    "    # 라벨 인코더 생성\n",
    "    encoder = OneHotEncoder()\n",
    "\n",
    "    # X_train데이터를 이용 피팅하고 라벨숫자로 변환한다\n",
    "    train_oh_encoded = encoder.fit_transform(train[feat].values.reshape(-1,1)).toarray()\n",
    "    test_oh_encoded = encoder.transform(test[feat].values.reshape(-1,1)).toarray()\n",
    "\n",
    "    train_oh = pd.DataFrame(train_oh_encoded, \n",
    "                 columns = [feat + '_' + value for value in train[feat].unique()])\n",
    "    test_oh = pd.DataFrame(test_oh_encoded, \n",
    "                 columns = [feat + '_' + value for value in train[feat].unique()])\n",
    "    \n",
    "    train_ohe = pd.concat([train_ohe, train_oh], axis = 1)\n",
    "    test_ohe = pd.concat([test_ohe, test_oh], axis = 1)"
   ]
  },
  {
   "cell_type": "code",
   "execution_count": 70,
   "id": "40b8b0f7",
   "metadata": {},
   "outputs": [],
   "source": [
    "train = pd.concat([train, train_ohe], axis = 1)\n",
    "test = pd.concat([test, test_ohe], axis = 1)"
   ]
  },
  {
   "cell_type": "code",
   "execution_count": 71,
   "id": "19f522c2",
   "metadata": {},
   "outputs": [
    {
     "data": {
      "text/plain": [
       "Index(['Education_Master', 'Education_Graduation', 'Education_Basic',\n",
       "       'Education_PhD', 'Education_2n Cycle', 'Marital_Status_Together',\n",
       "       'Marital_Status_Single', 'Marital_Status_Married',\n",
       "       'Marital_Status_Widow', 'Marital_Status_Divorced',\n",
       "       'Marital_Status_Alone', 'Marital_Status_YOLO', 'Marital_Status_Absurd'],\n",
       "      dtype='object')"
      ]
     },
     "execution_count": 71,
     "metadata": {},
     "output_type": "execute_result"
    }
   ],
   "source": [
    "train_ohe.columns"
   ]
  },
  {
   "cell_type": "markdown",
   "id": "638365da",
   "metadata": {},
   "source": [
    "## Validation"
   ]
  },
  {
   "cell_type": "markdown",
   "id": "01744c7f",
   "metadata": {},
   "source": [
    "### Set X, y"
   ]
  },
  {
   "cell_type": "code",
   "execution_count": 100,
   "id": "060792a9",
   "metadata": {},
   "outputs": [],
   "source": [
    "in_model_features = ['Income', 'NumWebVisitsMonth', 'NumPurchases', 'custer_terms', 'register_age',\n",
    "                    'Kidhome', 'Teenhome', 'Sum_AcceptedCmp', 'Complain',\n",
    "                    #'AcceptedCmp1', 'AcceptedCmp2','AcceptedCmp3', 'AcceptedCmp4', 'AcceptedCmp5','Recency',\n",
    "                    'NumDealsPurchases', 'NumWebPurchases', 'NumCatalogPurchases', 'NumStorePurchases',\n",
    "                    'Education_Master', 'Education_Graduation', 'Education_Basic',\n",
    "                    'Education_PhD', 'Education_2n Cycle', 'Marital_Status_Together',\n",
    "                    'Marital_Status_Single', 'Marital_Status_Married',\n",
    "                    'Marital_Status_Widow', 'Marital_Status_Divorced',\n",
    "                    'Marital_Status_Alone', 'Marital_Status_YOLO', 'Marital_Status_Absurd']"
   ]
  },
  {
   "cell_type": "code",
   "execution_count": 101,
   "id": "2ea7443a",
   "metadata": {},
   "outputs": [],
   "source": [
    "X = train[in_model_features]\n",
    "y = train['target']"
   ]
  },
  {
   "cell_type": "code",
   "execution_count": 102,
   "id": "ca8f6d17",
   "metadata": {},
   "outputs": [],
   "source": [
    "X_train, X_test, y_train, y_test = train_test_split(X, y, test_size=0.25, random_state=42)"
   ]
  },
  {
   "cell_type": "markdown",
   "id": "9d89f477",
   "metadata": {},
   "source": [
    "## Cross Validation"
   ]
  },
  {
   "cell_type": "code",
   "execution_count": 109,
   "id": "4f1bdb17",
   "metadata": {},
   "outputs": [],
   "source": [
    "val_xgb = XGBRegressor(random_state = 0)\n",
    "val_lgb = LGBMRegressor(boosting_type = 'dart', random_state = 0)\n",
    "val_cat = CatBoostRegressor(random_state = 0, verbose = 500)"
   ]
  },
  {
   "cell_type": "code",
   "execution_count": 32,
   "id": "54a6ad3c",
   "metadata": {},
   "outputs": [
    {
     "name": "stdout",
     "output_type": "stream",
     "text": [
      "Learning rate set to 0.038378\n",
      "0:\tlearn: 581.3716776\ttotal: 59.9ms\tremaining: 59.8s\n",
      "500:\tlearn: 82.8806787\ttotal: 342ms\tremaining: 340ms\n",
      "999:\tlearn: 40.4867117\ttotal: 615ms\tremaining: 0us\n",
      "Learning rate set to 0.038387\n",
      "0:\tlearn: 579.0847552\ttotal: 376us\tremaining: 376ms\n",
      "500:\tlearn: 85.6324545\ttotal: 265ms\tremaining: 264ms\n",
      "999:\tlearn: 43.5582314\ttotal: 538ms\tremaining: 0us\n",
      "Learning rate set to 0.038387\n",
      "0:\tlearn: 582.0310263\ttotal: 562us\tremaining: 562ms\n",
      "500:\tlearn: 88.0851618\ttotal: 272ms\tremaining: 271ms\n",
      "999:\tlearn: 40.9956993\ttotal: 546ms\tremaining: 0us\n",
      "Learning rate set to 0.038387\n",
      "0:\tlearn: 590.6606469\ttotal: 597us\tremaining: 597ms\n",
      "500:\tlearn: 90.7569800\ttotal: 271ms\tremaining: 270ms\n",
      "999:\tlearn: 42.5975636\ttotal: 550ms\tremaining: 0us\n",
      "Learning rate set to 0.038387\n",
      "0:\tlearn: 579.9209449\ttotal: 519us\tremaining: 519ms\n",
      "500:\tlearn: 92.2623748\ttotal: 276ms\tremaining: 274ms\n",
      "999:\tlearn: 43.9599998\ttotal: 552ms\tremaining: 0us\n",
      "Non Sampling XGB model : [0.79781358 0.83810874 0.83347309 0.85434647 0.86642303]\n",
      "Non Sampling LGBM model : [0.77992548 0.81212489 0.80543802 0.83613698 0.80595116]\n",
      "Non Sampling CAT model : [0.8024169  0.84619955 0.86068185 0.87303768 0.86764653]\n"
     ]
    }
   ],
   "source": [
    "scores_xgb = cross_val_score(val_xgb, X_train, y_train, cv = 5)\n",
    "scores_lgb = cross_val_score(val_lgb, X_train, y_train, cv = 5)\n",
    "scores_cat = cross_val_score(val_cat, X_train, y_train, cv = 5)\n",
    "\n",
    "print('Non Sampling XGB model :', scores_xgb)\n",
    "print('Non Sampling LGBM model :', scores_lgb)\n",
    "print('Non Sampling CAT model :', scores_cat)"
   ]
  },
  {
   "cell_type": "code",
   "execution_count": 110,
   "id": "60141fb8",
   "metadata": {},
   "outputs": [
    {
     "name": "stdout",
     "output_type": "stream",
     "text": [
      "Learning rate set to 0.040167\n",
      "0:\tlearn: 586.0790112\ttotal: 1.04ms\tremaining: 1.04s\n",
      "500:\tlearn: 81.8549933\ttotal: 287ms\tremaining: 286ms\n",
      "999:\tlearn: 40.1395504\ttotal: 577ms\tremaining: 0us\n",
      "Learning rate set to 0.040167\n",
      "0:\tlearn: 591.6309276\ttotal: 714us\tremaining: 714ms\n",
      "500:\tlearn: 79.7320994\ttotal: 287ms\tremaining: 286ms\n",
      "999:\tlearn: 38.0166850\ttotal: 583ms\tremaining: 0us\n",
      "Learning rate set to 0.040167\n",
      "0:\tlearn: 585.7620894\ttotal: 423us\tremaining: 423ms\n",
      "500:\tlearn: 76.8009080\ttotal: 295ms\tremaining: 294ms\n",
      "999:\tlearn: 37.4722050\ttotal: 593ms\tremaining: 0us\n",
      "Learning rate set to 0.040175\n",
      "0:\tlearn: 578.1723541\ttotal: 544us\tremaining: 544ms\n",
      "500:\tlearn: 72.1363462\ttotal: 294ms\tremaining: 292ms\n",
      "999:\tlearn: 34.8498005\ttotal: 585ms\tremaining: 0us\n",
      "Learning rate set to 0.040175\n",
      "0:\tlearn: 582.9975559\ttotal: 393us\tremaining: 394ms\n",
      "500:\tlearn: 73.6155921\ttotal: 292ms\tremaining: 291ms\n",
      "999:\tlearn: 33.1882398\ttotal: 581ms\tremaining: 0us\n",
      "Non Sampling XGB model : [0.89800033 0.87138087 0.87652431 0.81907649 0.85891384]\n",
      "Non Sampling LGBM model : [0.88230192 0.84384195 0.88457842 0.80506129 0.85765403]\n",
      "Non Sampling CAT model : [0.90243894 0.8945459  0.90558503 0.85099267 0.88351664]\n"
     ]
    }
   ],
   "source": [
    "scores_xgb = cross_val_score(val_xgb, X_train, y_train, cv = 5)\n",
    "scores_lgb = cross_val_score(val_lgb, X_train, y_train, cv = 5)\n",
    "scores_cat = cross_val_score(val_cat, X_train, y_train, cv = 5)\n",
    "\n",
    "print('Non Sampling XGB model :', scores_xgb)\n",
    "print('Non Sampling LGBM model :', scores_lgb)\n",
    "print('Non Sampling CAT model :', scores_cat)"
   ]
  },
  {
   "cell_type": "markdown",
   "id": "3fcdc5f7",
   "metadata": {},
   "source": [
    "### Scoring by NMAE"
   ]
  },
  {
   "cell_type": "code",
   "execution_count": 105,
   "id": "f2895eac",
   "metadata": {},
   "outputs": [],
   "source": [
    "import numpy as np\n",
    "from sklearn.metrics import mean_squared_error\n",
    "\n",
    "def nmae(true, pred):\n",
    "\n",
    "    mae = np.mean(np.abs(true-pred))\n",
    "    score = mae / np.mean(np.abs(true))\n",
    "    \n",
    "    return score"
   ]
  },
  {
   "cell_type": "code",
   "execution_count": 106,
   "id": "cc05ca8c",
   "metadata": {},
   "outputs": [
    {
     "name": "stdout",
     "output_type": "stream",
     "text": [
      "Learning rate set to 0.039763\n",
      "0:\tlearn: 582.3137975\ttotal: 953us\tremaining: 952ms\n",
      "500:\tlearn: 73.4660971\ttotal: 290ms\tremaining: 289ms\n",
      "999:\tlearn: 34.7616405\ttotal: 585ms\tremaining: 0us\n",
      "모델 NMAE: 0.17648089980428114\n"
     ]
    }
   ],
   "source": [
    "val_cat = CatBoostRegressor(random_state = 0, verbose = 500)\n",
    "val_cat.fit(X_train, y_train)\n",
    "y_pred = val_cat.predict(X_test) # y예측\n",
    "\n",
    "print(f'모델 NMAE: {nmae(y_test,y_pred)}')"
   ]
  },
  {
   "cell_type": "code",
   "execution_count": 36,
   "id": "7659a643",
   "metadata": {},
   "outputs": [
    {
     "name": "stdout",
     "output_type": "stream",
     "text": [
      "모델 NMAE: 0.18921007391727773\n"
     ]
    }
   ],
   "source": [
    "val_xgb = XGBRegressor(random_state = 0)\n",
    "val_xgb.fit(X_train, y_train)\n",
    "y_pred = val_xgb.predict(X_test) # y예측\n",
    "\n",
    "print(f'모델 NMAE: {nmae(y_test,y_pred)}')"
   ]
  },
  {
   "cell_type": "markdown",
   "id": "32a83c1f",
   "metadata": {},
   "source": [
    "## Submission Modeling"
   ]
  },
  {
   "cell_type": "code",
   "execution_count": 112,
   "id": "fd06a72b",
   "metadata": {},
   "outputs": [],
   "source": [
    "X_train = train[in_model_features]\n",
    "y_train = train['target']\n",
    "\n",
    "X_test = test[in_model_features]"
   ]
  },
  {
   "cell_type": "code",
   "execution_count": 118,
   "id": "d760c483",
   "metadata": {
    "scrolled": true
   },
   "outputs": [
    {
     "name": "stdout",
     "output_type": "stream",
     "text": [
      "(1108, 26) (1108,) (1108, 26)\n"
     ]
    }
   ],
   "source": [
    "print(X_train.shape, y_train.shape, X_test.shape)"
   ]
  },
  {
   "cell_type": "code",
   "execution_count": 114,
   "id": "43c78b0f",
   "metadata": {},
   "outputs": [
    {
     "name": "stdout",
     "output_type": "stream",
     "text": [
      "Learning rate set to 0.041612\n",
      "0:\tlearn: 584.3337122\ttotal: 1.2ms\tremaining: 1.2s\n",
      "500:\tlearn: 80.3648556\ttotal: 313ms\tremaining: 312ms\n",
      "999:\tlearn: 43.8851433\ttotal: 621ms\tremaining: 0us\n"
     ]
    }
   ],
   "source": [
    "cat = CatBoostRegressor(random_state = 0, verbose = 500)\n",
    "cat.fit(X_train, y_train)\n",
    "\n",
    "pred = cat.predict(X_test)"
   ]
  },
  {
   "cell_type": "code",
   "execution_count": 115,
   "id": "1204035a",
   "metadata": {},
   "outputs": [],
   "source": [
    "submission = pd.read_csv(f'{path}/sample_submission.csv')"
   ]
  },
  {
   "cell_type": "code",
   "execution_count": 116,
   "id": "54e43a91",
   "metadata": {},
   "outputs": [],
   "source": [
    "submission['target'] = pred"
   ]
  },
  {
   "cell_type": "code",
   "execution_count": 119,
   "id": "8611aeb2",
   "metadata": {},
   "outputs": [],
   "source": [
    "submission.to_csv(f\"{path}/cat_0503_{len(X_test.columns)}.csv\", index=False)"
   ]
  },
  {
   "cell_type": "markdown",
   "id": "cab4f508",
   "metadata": {},
   "source": [
    "## Submission Analysis"
   ]
  },
  {
   "cell_type": "code",
   "execution_count": null,
   "id": "b0e5aaf4",
   "metadata": {},
   "outputs": [],
   "source": []
  },
  {
   "cell_type": "code",
   "execution_count": 121,
   "id": "f453efb9",
   "metadata": {},
   "outputs": [
    {
     "data": {
      "text/plain": [
       "<AxesSubplot:xlabel='target', ylabel='Density'>"
      ]
     },
     "execution_count": 121,
     "metadata": {},
     "output_type": "execute_result"
    },
    {
     "data": {
      "image/png": "[encoded data removed]",
      "text/plain": [
       "<Figure size 432x288 with 1 Axes>"
      ]
     },
     "metadata": {
      "needs_background": "light"
     },
     "output_type": "display_data"
    }
   ],
   "source": [
    "sns.kdeplot(y_train)"
   ]
  },
  {
   "cell_type": "code",
   "execution_count": 120,
   "id": "f41fdc87",
   "metadata": {},
   "outputs": [
    {
     "data": {
      "text/plain": [
       "<AxesSubplot:xlabel='target', ylabel='Density'>"
      ]
     },
     "execution_count": 120,
     "metadata": {},
     "output_type": "execute_result"
    },
    {
     "data": {
      "image/png": "[encoded data removed]",
      "text/plain": [
       "<Figure size 432x288 with 1 Axes>"
      ]
     },
     "metadata": {
      "needs_background": "light"
     },
     "output_type": "display_data"
    }
   ],
   "source": [
    "sns.kdeplot(submission['target'])"
   ]
  }
 ],
 "metadata": {
  "kernelspec": {
   "display_name": "Python 3 (ipykernel)",
   "language": "python",
   "name": "python3"
  },
  "language_info": {
   "codemirror_mode": {
    "name": "ipython",
    "version": 3
   },
   "file_extension": ".py",
   "mimetype": "text/x-python",
   "name": "python",
   "nbconvert_exporter": "python",
   "pygments_lexer": "ipython3",
   "version": "3.9.9"
  }
 },
 "nbformat": 4,
 "nbformat_minor": 5
}
