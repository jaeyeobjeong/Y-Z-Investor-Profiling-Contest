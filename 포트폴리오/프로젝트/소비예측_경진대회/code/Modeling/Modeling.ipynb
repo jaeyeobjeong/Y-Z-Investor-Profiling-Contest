{
 "cells": [
  {
   "cell_type": "code",
   "execution_count": 112,
   "id": "ce5d4bb4",
   "metadata": {},
   "outputs": [],
   "source": [
    "path = '/Users/jaeyeobjeong/Desktop/포트폴리오/프로젝트/소비예측 경진대회/data'"
   ]
  },
  {
   "cell_type": "code",
   "execution_count": 113,
   "id": "580e10d4",
   "metadata": {},
   "outputs": [],
   "source": [
    "import pandas as pd\n",
    "import numpy as np\n",
    "\n",
    "import matplotlib.pyplot as plt\n",
    "import seaborn as sns\n",
    "\n",
    "from sklearn.model_selection import train_test_split, cross_val_score\n",
    "#from sklearn.preprocessing import MinMaxScaler"
   ]
  },
  {
   "cell_type": "code",
   "execution_count": 114,
   "id": "a21eb99b",
   "metadata": {},
   "outputs": [],
   "source": [
    "from xgboost import XGBRegressor\n",
    "from lightgbm import LGBMRegressor\n",
    "from catboost import CatBoostRegressor\n",
    "from sklearn.ensemble import RandomForestRegressor"
   ]
  },
  {
   "cell_type": "code",
   "execution_count": 115,
   "id": "6528ff3b",
   "metadata": {},
   "outputs": [],
   "source": [
    "train = pd.read_csv(f'{path}/train_0504.csv')\n",
    "test = pd.read_csv(f'{path}/test_0504.csv')"
   ]
  },
  {
   "cell_type": "code",
   "execution_count": 116,
   "id": "6bcb37b1",
   "metadata": {},
   "outputs": [],
   "source": [
    "from category_encoders import TargetEncoder\n",
    "from sklearn.preprocessing import OneHotEncoder \n",
    "from sklearn.preprocessing import LabelEncoder\n",
    "\n",
    "ohe_features = ['Education', 'Marital_Status']\n",
    "\n",
    "train_ohe, test_ohe = pd.DataFrame(), pd.DataFrame()\n",
    "for feat in ohe_features:\n",
    "    # 라벨 인코더 생성\n",
    "    encoder = OneHotEncoder()\n",
    "\n",
    "    # X_train데이터를 이용 피팅하고 라벨숫자로 변환한다\n",
    "    train_oh_encoded = encoder.fit_transform(train[feat].values.reshape(-1,1)).toarray()\n",
    "    test_oh_encoded = encoder.transform(test[feat].values.reshape(-1,1)).toarray()\n",
    "\n",
    "    train_oh = pd.DataFrame(train_oh_encoded, \n",
    "                 columns = [feat + '_' + value for value in train[feat].unique()])\n",
    "    test_oh = pd.DataFrame(test_oh_encoded, \n",
    "                 columns = [feat + '_' + value for value in train[feat].unique()])\n",
    "    \n",
    "    train_ohe = pd.concat([train_ohe, train_oh], axis = 1)\n",
    "    test_ohe = pd.concat([test_ohe, test_oh], axis = 1)"
   ]
  },
  {
   "cell_type": "code",
   "execution_count": 117,
   "id": "914a3838",
   "metadata": {},
   "outputs": [],
   "source": [
    "train = pd.concat([train, train_ohe], axis = 1)\n",
    "test = pd.concat([test, test_ohe], axis = 1)"
   ]
  },
  {
   "cell_type": "code",
   "execution_count": 118,
   "id": "0521d2c2",
   "metadata": {},
   "outputs": [
    {
     "data": {
      "text/plain": [
       "Index(['Education_Master', 'Education_Graduation', 'Education_Basic',\n",
       "       'Education_PhD', 'Education_2n Cycle', 'Marital_Status_Together',\n",
       "       'Marital_Status_Single', 'Marital_Status_Married',\n",
       "       'Marital_Status_Widow', 'Marital_Status_Divorced',\n",
       "       'Marital_Status_Alone', 'Marital_Status_YOLO', 'Marital_Status_Absurd'],\n",
       "      dtype='object')"
      ]
     },
     "execution_count": 118,
     "metadata": {},
     "output_type": "execute_result"
    }
   ],
   "source": [
    "train_ohe.columns"
   ]
  },
  {
   "cell_type": "markdown",
   "id": "2c48fae0",
   "metadata": {},
   "source": [
    "## Validation"
   ]
  },
  {
   "cell_type": "markdown",
   "id": "25abb313",
   "metadata": {},
   "source": [
    "### Set X, y"
   ]
  },
  {
   "cell_type": "code",
   "execution_count": 124,
   "id": "67089062",
   "metadata": {},
   "outputs": [],
   "source": [
    "in_model_features = ['Income', 'NumWebVisitsMonth', 'NumPurchases', \n",
    "                     'register_age', 'customer_terms',\n",
    "                     #'Kidhome', 'Teenhome',\n",
    "                     'diff_kid_teen',\n",
    "                     'Sum_AcceptedCmp', 'Complain',\n",
    "                     #'AcceptedCmp1', 'AcceptedCmp2','AcceptedCmp3', 'AcceptedCmp4', 'AcceptedCmp5','Recency',\n",
    "                     'NumDealsPurchases', 'NumWebPurchases', 'NumCatalogPurchases', 'NumStorePurchases',\n",
    "                     'Education_Master', 'Education_Graduation', 'Education_Basic',\n",
    "                     'Education_PhD', 'Education_2n Cycle', 'Marital_Status_Together',\n",
    "                     'Marital_Status_Single', 'Marital_Status_Married',\n",
    "                     'Marital_Status_Widow', 'Marital_Status_Divorced',\n",
    "                     'Marital_Status_Alone', 'Marital_Status_YOLO', 'Marital_Status_Absurd']"
   ]
  },
  {
   "cell_type": "code",
   "execution_count": 125,
   "id": "7f96bb82",
   "metadata": {},
   "outputs": [],
   "source": [
    "X = train[in_model_features]\n",
    "y = np.sqrt(train['target'])"
   ]
  },
  {
   "cell_type": "code",
   "execution_count": 126,
   "id": "f2e29cc1",
   "metadata": {},
   "outputs": [],
   "source": [
    "X_train, X_test, y_train, y_test = train_test_split(X, y, test_size=0.25, random_state=42)"
   ]
  },
  {
   "cell_type": "markdown",
   "id": "77a605a1",
   "metadata": {},
   "source": [
    "## Cross Validation"
   ]
  },
  {
   "cell_type": "code",
   "execution_count": 127,
   "id": "7b1ec1d7",
   "metadata": {},
   "outputs": [],
   "source": [
    "val_xgb = XGBRegressor(random_state = 0)\n",
    "val_lgb = LGBMRegressor(boosting_type = 'dart', random_state = 0)\n",
    "val_cat = CatBoostRegressor(random_state = 0, verbose = 500)"
   ]
  },
  {
   "cell_type": "code",
   "execution_count": 165,
   "id": "eb4f727e",
   "metadata": {},
   "outputs": [
    {
     "name": "stdout",
     "output_type": "stream",
     "text": [
      "Learning rate set to 0.038378\n",
      "0:\tlearn: 12.3589542\ttotal: 594us\tremaining: 594ms\n",
      "500:\tlearn: 1.2619785\ttotal: 283ms\tremaining: 282ms\n",
      "999:\tlearn: 0.6359509\ttotal: 556ms\tremaining: 0us\n",
      "Learning rate set to 0.038387\n",
      "0:\tlearn: 12.3173742\ttotal: 244us\tremaining: 244ms\n",
      "500:\tlearn: 1.1751433\ttotal: 279ms\tremaining: 278ms\n",
      "999:\tlearn: 0.6367520\ttotal: 550ms\tremaining: 0us\n",
      "Learning rate set to 0.038387\n",
      "0:\tlearn: 12.3349184\ttotal: 546us\tremaining: 546ms\n",
      "500:\tlearn: 1.2342054\ttotal: 274ms\tremaining: 273ms\n",
      "999:\tlearn: 0.6603473\ttotal: 557ms\tremaining: 0us\n",
      "Learning rate set to 0.038387\n",
      "0:\tlearn: 12.5278923\ttotal: 194us\tremaining: 194ms\n",
      "500:\tlearn: 1.2301723\ttotal: 263ms\tremaining: 262ms\n",
      "999:\tlearn: 0.6246757\ttotal: 542ms\tremaining: 0us\n",
      "Learning rate set to 0.038387\n",
      "0:\tlearn: 12.3283040\ttotal: 909us\tremaining: 908ms\n",
      "500:\tlearn: 1.2205977\ttotal: 277ms\tremaining: 276ms\n",
      "999:\tlearn: 0.5969029\ttotal: 553ms\tremaining: 0us\n",
      "Non Sampling XGB model : [0.91692473 0.91346053 0.92959384 0.94000422 0.94340293]\n",
      "Non Sampling LGBM model : [0.86542524 0.86804679 0.87290301 0.86036945 0.87906966]\n",
      "Non Sampling CAT model : [0.92299976 0.93559806 0.93328301 0.9400083  0.94457934]\n"
     ]
    }
   ],
   "source": [
    "scores_xgb = cross_val_score(val_xgb, X_train, y_train, cv = 5)\n",
    "scores_lgb = cross_val_score(val_lgb, X_train, y_train, cv = 5)\n",
    "scores_cat = cross_val_score(val_cat, X_train, y_train, cv = 5)\n",
    "\n",
    "print('Non Sampling XGB model :', scores_xgb)\n",
    "print('Non Sampling LGBM model :', scores_lgb)\n",
    "print('Non Sampling CAT model :', scores_cat)"
   ]
  },
  {
   "cell_type": "code",
   "execution_count": 128,
   "id": "9c14fc40",
   "metadata": {},
   "outputs": [
    {
     "name": "stdout",
     "output_type": "stream",
     "text": [
      "Learning rate set to 0.038378\n",
      "0:\tlearn: 12.3511761\ttotal: 439us\tremaining: 439ms\n",
      "500:\tlearn: 1.2616143\ttotal: 292ms\tremaining: 291ms\n",
      "999:\tlearn: 0.6346444\ttotal: 570ms\tremaining: 0us\n",
      "Learning rate set to 0.038387\n",
      "0:\tlearn: 12.3266349\ttotal: 614us\tremaining: 614ms\n",
      "500:\tlearn: 1.2529576\ttotal: 276ms\tremaining: 275ms\n",
      "999:\tlearn: 0.6832168\ttotal: 545ms\tremaining: 0us\n",
      "Learning rate set to 0.038387\n",
      "0:\tlearn: 12.3233268\ttotal: 1.22ms\tremaining: 1.21s\n",
      "500:\tlearn: 1.2995294\ttotal: 275ms\tremaining: 274ms\n",
      "999:\tlearn: 0.6509804\ttotal: 555ms\tremaining: 0us\n",
      "Learning rate set to 0.038387\n",
      "0:\tlearn: 12.5174388\ttotal: 510us\tremaining: 510ms\n",
      "500:\tlearn: 1.2295348\ttotal: 270ms\tremaining: 269ms\n",
      "999:\tlearn: 0.5846130\ttotal: 549ms\tremaining: 0us\n",
      "Learning rate set to 0.038387\n",
      "0:\tlearn: 12.3253631\ttotal: 554us\tremaining: 554ms\n",
      "500:\tlearn: 1.2654805\ttotal: 269ms\tremaining: 268ms\n",
      "999:\tlearn: 0.6407602\ttotal: 547ms\tremaining: 0us\n",
      "Non Sampling XGB model : [0.91041607 0.916701   0.91607818 0.92961322 0.93684899]\n",
      "Non Sampling LGBM model : [0.86663591 0.86790926 0.87623207 0.852076   0.87492012]\n",
      "Non Sampling CAT model : [0.91795926 0.9348502  0.93563257 0.94152471 0.9453302 ]\n"
     ]
    }
   ],
   "source": [
    "scores_xgb = cross_val_score(val_xgb, X_train, y_train, cv = 5)\n",
    "scores_lgb = cross_val_score(val_lgb, X_train, y_train, cv = 5)\n",
    "scores_cat = cross_val_score(val_cat, X_train, y_train, cv = 5)\n",
    "\n",
    "print('Non Sampling XGB model :', scores_xgb)\n",
    "print('Non Sampling LGBM model :', scores_lgb)\n",
    "print('Non Sampling CAT model :', scores_cat)"
   ]
  },
  {
   "cell_type": "markdown",
   "id": "4bb5509c",
   "metadata": {},
   "source": [
    "### Scoring by NMAE"
   ]
  },
  {
   "cell_type": "code",
   "execution_count": 129,
   "id": "51ae36a1",
   "metadata": {},
   "outputs": [],
   "source": [
    "import numpy as np\n",
    "from sklearn.metrics import mean_squared_error\n",
    "\n",
    "def nmae(true, pred):\n",
    "\n",
    "    mae = np.mean(np.abs(true-pred))\n",
    "    score = mae / np.mean(np.abs(true))\n",
    "    \n",
    "    return score"
   ]
  },
  {
   "cell_type": "code",
   "execution_count": 168,
   "id": "11a75521",
   "metadata": {},
   "outputs": [
    {
     "name": "stdout",
     "output_type": "stream",
     "text": [
      "Learning rate set to 0.039763\n",
      "0:\tlearn: 12.3608283\ttotal: 643us\tremaining: 642ms\n",
      "500:\tlearn: 1.3134552\ttotal: 295ms\tremaining: 294ms\n",
      "999:\tlearn: 0.7379450\ttotal: 584ms\tremaining: 0us\n",
      "모델 NMAE: 0.16934310982554732\n"
     ]
    }
   ],
   "source": [
    "val_cat = CatBoostRegressor(random_state = 0, verbose = 500)\n",
    "val_cat.fit(X_train, y_train)\n",
    "y_pred = val_cat.predict(X_test) # y예측\n",
    "\n",
    "print(f'모델 NMAE: {nmae(y_test**2,y_pred**2)}')"
   ]
  },
  {
   "cell_type": "code",
   "execution_count": 130,
   "id": "eac85aef",
   "metadata": {},
   "outputs": [
    {
     "name": "stdout",
     "output_type": "stream",
     "text": [
      "Learning rate set to 0.039763\n",
      "0:\tlearn: 12.3508422\ttotal: 1.35ms\tremaining: 1.35s\n",
      "500:\tlearn: 1.3205962\ttotal: 304ms\tremaining: 302ms\n",
      "999:\tlearn: 0.7141986\ttotal: 587ms\tremaining: 0us\n",
      "모델 NMAE: 0.1667770947210116\n"
     ]
    }
   ],
   "source": [
    "val_cat = CatBoostRegressor(random_state = 0, verbose = 500)\n",
    "val_cat.fit(X_train, y_train)\n",
    "y_pred = val_cat.predict(X_test) # y예측\n",
    "\n",
    "print(f'모델 NMAE: {nmae(y_test**2,y_pred**2)}')"
   ]
  },
  {
   "cell_type": "code",
   "execution_count": 14,
   "id": "20a71335",
   "metadata": {},
   "outputs": [
    {
     "name": "stdout",
     "output_type": "stream",
     "text": [
      "모델 NMAE: 0.16219495074979795\n"
     ]
    }
   ],
   "source": [
    "val_xgb = XGBRegressor(random_state = 0)\n",
    "val_xgb.fit(X_train, y_train)\n",
    "y_pred = val_xgb.predict(X_test) # y예측\n",
    "\n",
    "print(f'모델 NMAE: {nmae(y_test**2,y_pred**2)}')"
   ]
  },
  {
   "cell_type": "markdown",
   "id": "de9fe554",
   "metadata": {},
   "source": [
    "## Submission Modeling"
   ]
  },
  {
   "cell_type": "code",
   "execution_count": 99,
   "id": "2512efc1",
   "metadata": {},
   "outputs": [],
   "source": [
    "X_train = train[in_model_features]\n",
    "y_train = np.sqrt(train['target'])\n",
    "\n",
    "X_test = test[in_model_features]"
   ]
  },
  {
   "cell_type": "code",
   "execution_count": 100,
   "id": "0c5088f5",
   "metadata": {
    "scrolled": true
   },
   "outputs": [
    {
     "name": "stdout",
     "output_type": "stream",
     "text": [
      "(1108, 27) (1108,) (1108, 27)\n"
     ]
    }
   ],
   "source": [
    "print(X_train.shape, y_train.shape, X_test.shape)"
   ]
  },
  {
   "cell_type": "code",
   "execution_count": 101,
   "id": "1d505684",
   "metadata": {},
   "outputs": [
    {
     "name": "stdout",
     "output_type": "stream",
     "text": [
      "Learning rate set to 0.041612\n",
      "0:\tlearn: 12.4012582\ttotal: 1.13ms\tremaining: 1.13s\n",
      "500:\tlearn: 1.4416031\ttotal: 321ms\tremaining: 319ms\n",
      "999:\tlearn: 0.8431076\ttotal: 624ms\tremaining: 0us\n"
     ]
    }
   ],
   "source": [
    "cat = CatBoostRegressor(random_state = 0, verbose = 500)\n",
    "cat.fit(X_train, y_train)\n",
    "\n",
    "pred = cat.predict(X_test)"
   ]
  },
  {
   "cell_type": "code",
   "execution_count": 102,
   "id": "694d6973",
   "metadata": {},
   "outputs": [],
   "source": [
    "xgb = XGBRegressor(random_state = 0)\n",
    "xgb.fit(X_train, y_train)\n",
    "\n",
    "pred = xgb.predict(X_test)"
   ]
  },
  {
   "cell_type": "code",
   "execution_count": 103,
   "id": "6a8e3086",
   "metadata": {},
   "outputs": [],
   "source": [
    "submission = pd.read_csv(f'{path}/sample_submission.csv')"
   ]
  },
  {
   "cell_type": "code",
   "execution_count": 104,
   "id": "b4a21c5a",
   "metadata": {},
   "outputs": [],
   "source": [
    "submission['target'] = [0 if p < 0 else p**2 for p in pred]"
   ]
  },
  {
   "cell_type": "code",
   "execution_count": 105,
   "id": "1db08f6f",
   "metadata": {},
   "outputs": [
    {
     "data": {
      "text/html": [
       "<div>\n",
       "<style scoped>\n",
       "    .dataframe tbody tr th:only-of-type {\n",
       "        vertical-align: middle;\n",
       "    }\n",
       "\n",
       "    .dataframe tbody tr th {\n",
       "        vertical-align: top;\n",
       "    }\n",
       "\n",
       "    .dataframe thead th {\n",
       "        text-align: right;\n",
       "    }\n",
       "</style>\n",
       "<table border=\"1\" class=\"dataframe\">\n",
       "  <thead>\n",
       "    <tr style=\"text-align: right;\">\n",
       "      <th></th>\n",
       "      <th>id</th>\n",
       "      <th>target</th>\n",
       "    </tr>\n",
       "  </thead>\n",
       "  <tbody>\n",
       "    <tr>\n",
       "      <th>0</th>\n",
       "      <td>0</td>\n",
       "      <td>504.533299</td>\n",
       "    </tr>\n",
       "    <tr>\n",
       "      <th>1</th>\n",
       "      <td>1</td>\n",
       "      <td>902.900549</td>\n",
       "    </tr>\n",
       "    <tr>\n",
       "      <th>2</th>\n",
       "      <td>2</td>\n",
       "      <td>949.056863</td>\n",
       "    </tr>\n",
       "    <tr>\n",
       "      <th>3</th>\n",
       "      <td>3</td>\n",
       "      <td>1279.601278</td>\n",
       "    </tr>\n",
       "    <tr>\n",
       "      <th>4</th>\n",
       "      <td>4</td>\n",
       "      <td>1095.014507</td>\n",
       "    </tr>\n",
       "  </tbody>\n",
       "</table>\n",
       "</div>"
      ],
      "text/plain": [
       "   id       target\n",
       "0   0   504.533299\n",
       "1   1   902.900549\n",
       "2   2   949.056863\n",
       "3   3  1279.601278\n",
       "4   4  1095.014507"
      ]
     },
     "execution_count": 105,
     "metadata": {},
     "output_type": "execute_result"
    }
   ],
   "source": [
    "submission.head()"
   ]
  },
  {
   "cell_type": "code",
   "execution_count": 83,
   "id": "25d701ce",
   "metadata": {},
   "outputs": [
    {
     "data": {
      "image/png": "[encoded data removed]",
      "text/plain": [
       "<Figure size 432x864 with 1 Axes>"
      ]
     },
     "metadata": {
      "needs_background": "light"
     },
     "output_type": "display_data"
    }
   ],
   "source": [
    "feature_imp = pd.DataFrame(\n",
    "{\n",
    "    'feature_name' : in_model_features,\n",
    "    'feat_imp' : cat.feature_importances_\n",
    "})\n",
    "feature_imp.sort_values(by = 'feat_imp', ascending=True, inplace=True)\n",
    "\n",
    "plt.figure(figsize = (6, 12))\n",
    "plt.barh('feature_name', 'feat_imp', data = feature_imp)\n",
    "plt.show()"
   ]
  },
  {
   "cell_type": "markdown",
   "id": "650ef3f3",
   "metadata": {},
   "source": [
    "## Model Ensemble\n",
    "\n",
    "### IDEA\n",
    "\n",
    "- 다중 공선성이 높은 feature들을 다른 모델에 넣고 앙상블 시도"
   ]
  },
  {
   "cell_type": "code",
   "execution_count": 132,
   "id": "1deca2af",
   "metadata": {},
   "outputs": [],
   "source": [
    "cat_features = []\n",
    "xgb_features = []"
   ]
  },
  {
   "cell_type": "markdown",
   "id": "2b6ced57",
   "metadata": {},
   "source": [
    "## Submit Prediction"
   ]
  },
  {
   "cell_type": "code",
   "execution_count": 109,
   "id": "57222270",
   "metadata": {
    "scrolled": true
   },
   "outputs": [
    {
     "data": {
      "text/plain": [
       "27"
      ]
     },
     "execution_count": 109,
     "metadata": {},
     "output_type": "execute_result"
    }
   ],
   "source": [
    "len(in_model_features)"
   ]
  },
  {
   "cell_type": "code",
   "execution_count": 110,
   "id": "1175f6df",
   "metadata": {},
   "outputs": [],
   "source": [
    "submission.to_csv(f\"{path}/Submissions/cat_0504_{len(in_model_features)}_sqrt.csv\", index=False)"
   ]
  },
  {
   "cell_type": "markdown",
   "id": "653def41",
   "metadata": {},
   "source": [
    "## Submission Analysis"
   ]
  },
  {
   "cell_type": "code",
   "execution_count": 142,
   "id": "c7cffcae",
   "metadata": {},
   "outputs": [
    {
     "name": "stdout",
     "output_type": "stream",
     "text": [
      "52075.809566787 12.779783393501805\n",
      "52418.693140794225 12.334837545126353\n"
     ]
    }
   ],
   "source": [
    "print(train.Income.mean(), train.NumPurchases.mean())\n",
    "print(test.Income.mean(), test.NumPurchases.mean())"
   ]
  },
  {
   "cell_type": "code",
   "execution_count": 145,
   "id": "5e4cf133",
   "metadata": {},
   "outputs": [
    {
     "name": "stdout",
     "output_type": "stream",
     "text": [
      "617.1218411552346 412.0\n",
      "593.915173530633 382.0635517223699\n"
     ]
    }
   ],
   "source": [
    "print(train.target.mean(), np.median(train.target))\n",
    "print(pred.mean(), np.median(pred))"
   ]
  },
  {
   "cell_type": "code",
   "execution_count": 107,
   "id": "273536fc",
   "metadata": {
    "scrolled": true
   },
   "outputs": [
    {
     "name": "stdout",
     "output_type": "stream",
     "text": [
      "617.1218411552346 412.0\n",
      "589.793491366255 367.0823346996349\n"
     ]
    }
   ],
   "source": [
    "print(train.target.mean(), np.median(train.target))\n",
    "print(submission.target.mean(), np.median(submission.target))"
   ]
  },
  {
   "cell_type": "code",
   "execution_count": 133,
   "id": "5220a0df",
   "metadata": {},
   "outputs": [
    {
     "data": {
      "text/plain": [
       "<matplotlib.legend.Legend at 0x29824aa00>"
      ]
     },
     "execution_count": 133,
     "metadata": {},
     "output_type": "execute_result"
    },
    {
     "data": {
      "image/png": "[encoded data removed]",
      "text/plain": [
       "<Figure size 432x288 with 1 Axes>"
      ]
     },
     "metadata": {
      "needs_background": "light"
     },
     "output_type": "display_data"
    }
   ],
   "source": [
    "sns.kdeplot(train.query('Income > 100000')['Income'], label = 'Train')\n",
    "sns.kdeplot(test.query('Income > 100000')['Income'], label = 'Test')\n",
    "plt.legend()"
   ]
  },
  {
   "cell_type": "code",
   "execution_count": 151,
   "id": "ee0b0935",
   "metadata": {},
   "outputs": [
    {
     "data": {
      "text/plain": [
       "<AxesSubplot:xlabel='target', ylabel='Density'>"
      ]
     },
     "execution_count": 151,
     "metadata": {},
     "output_type": "execute_result"
    },
    {
     "data": {
      "image/png": "[encoded data removed]",
      "text/plain": [
       "<Figure size 432x288 with 1 Axes>"
      ]
     },
     "metadata": {
      "needs_background": "light"
     },
     "output_type": "display_data"
    }
   ],
   "source": [
    "#sns.kdeplot(y_train)\n",
    "sns.kdeplot(np.sqrt(y_train))"
   ]
  },
  {
   "cell_type": "code",
   "execution_count": 108,
   "id": "5e7f61ee",
   "metadata": {},
   "outputs": [
    {
     "data": {
      "text/plain": [
       "<AxesSubplot:xlabel='target', ylabel='Density'>"
      ]
     },
     "execution_count": 108,
     "metadata": {},
     "output_type": "execute_result"
    },
    {
     "data": {
      "image/png": "[encoded data removed]",
      "text/plain": [
       "<Figure size 432x288 with 1 Axes>"
      ]
     },
     "metadata": {
      "needs_background": "light"
     },
     "output_type": "display_data"
    }
   ],
   "source": [
    "sns.kdeplot(submission['target'])"
   ]
  }
 ],
 "metadata": {
  "kernelspec": {
   "display_name": "Python 3 (ipykernel)",
   "language": "python",
   "name": "python3"
  },
  "language_info": {
   "codemirror_mode": {
    "name": "ipython",
    "version": 3
   },
   "file_extension": ".py",
   "mimetype": "text/x-python",
   "name": "python",
   "nbconvert_exporter": "python",
   "pygments_lexer": "ipython3",
   "version": "3.9.9"
  }
 },
 "nbformat": 4,
 "nbformat_minor": 5
}
