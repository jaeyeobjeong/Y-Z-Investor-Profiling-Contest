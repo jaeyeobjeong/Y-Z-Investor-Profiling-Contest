{
 "cells": [
  {
   "cell_type": "code",
   "execution_count": null,
   "id": "19c370a0",
   "metadata": {},
   "outputs": [],
   "source": [
    "in_model_features = ['Income', 'Recency', 'NumWebVisitsMonth', 'NumPurchases', 'cuter_terms', 'register_age',\n",
    "                    'Kidhome', 'Teenhome', 'Sum_AcceptedCmp', 'Education', 'Marital_Status']"
   ]
  }
 ],
 "metadata": {
  "kernelspec": {
   "display_name": "Python 3 (ipykernel)",
   "language": "python",
   "name": "python3"
  },
  "language_info": {
   "codemirror_mode": {
    "name": "ipython",
    "version": 3
   },
   "file_extension": ".py",
   "mimetype": "text/x-python",
   "name": "python",
   "nbconvert_exporter": "python",
   "pygments_lexer": "ipython3",
   "version": "3.9.9"
  }
 },
 "nbformat": 4,
 "nbformat_minor": 5
}
